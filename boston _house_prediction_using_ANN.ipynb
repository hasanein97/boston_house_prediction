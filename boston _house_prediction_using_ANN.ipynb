{
  "cells": [
    {
      "cell_type": "markdown",
      "source": [
        "## 0. Importing Dependencies"
      ],
      "metadata": {
        "id": "OrRk49pxMHs2"
      }
    },
    {
      "cell_type": "code",
      "source": [
        "from google.colab import drive\n",
        "drive.mount('/content/drive')"
      ],
      "metadata": {
        "colab": {
          "base_uri": "https://localhost:8080/"
        },
        "id": "3pguaT4-Mtjn",
        "outputId": "dde0bcd5-d02c-48ce-b89c-160c67c9e6f0"
      },
      "execution_count": 1,
      "outputs": [
        {
          "output_type": "stream",
          "name": "stdout",
          "text": [
            "Mounted at /content/drive\n"
          ]
        }
      ]
    },
    {
      "cell_type": "code",
      "source": [
        "from tensorflow.keras.layers import Activation , Dense\n",
        "from tensorflow.keras.models import Sequential\n",
        "from tensorflow.keras.datasets import boston_housing\n",
        "\n",
        "import pandas as pd\n",
        "import numpy as np"
      ],
      "metadata": {
        "id": "WycSmS2HIGvc"
      },
      "execution_count": 7,
      "outputs": []
    },
    {
      "cell_type": "markdown",
      "source": [
        "# 1. Data Collection/Loading"
      ],
      "metadata": {
        "id": "5QppL7onKJsF"
      }
    },
    {
      "cell_type": "code",
      "source": [
        "(x_train, y_train), (x_test, y_test) = boston_housing.load_data()"
      ],
      "metadata": {
        "colab": {
          "base_uri": "https://localhost:8080/"
        },
        "id": "FDWcWrKWQw4v",
        "outputId": "60f9bb5a-042b-4db6-d114-2a9948286d89"
      },
      "execution_count": 12,
      "outputs": [
        {
          "output_type": "stream",
          "name": "stdout",
          "text": [
            "Downloading data from https://storage.googleapis.com/tensorflow/tf-keras-datasets/boston_housing.npz\n",
            "57026/57026 [==============================] - 0s 0us/step\n"
          ]
        }
      ]
    },
    {
      "cell_type": "markdown",
      "source": [
        "## 2. Data Preprocessing"
      ],
      "metadata": {
        "id": "I6mdFxXeKJ29"
      }
    },
    {
      "cell_type": "code",
      "source": [
        "print('features to be trained on ',x_train.shape)\n",
        "print('features to be tested on ',x_test.shape)\n",
        "print('labels to be trained on ',y_train.shape)\n",
        "print('labels to be trained on ',y_test.shape)\n"
      ],
      "metadata": {
        "colab": {
          "base_uri": "https://localhost:8080/"
        },
        "id": "b2R9uHdlRdR_",
        "outputId": "79879e28-28d0-4015-ccc8-ea1471e175c3"
      },
      "execution_count": 14,
      "outputs": [
        {
          "output_type": "stream",
          "name": "stdout",
          "text": [
            "features to be trained on  (404, 13)\n",
            "features to be tested on  (102, 13)\n",
            "labels to be trained on  (404,)\n",
            "labels to be trained on  (102,)\n"
          ]
        }
      ]
    },
    {
      "cell_type": "markdown",
      "source": [
        "## 3. Model Building"
      ],
      "metadata": {
        "id": "e5Vy5fSHKKJE"
      }
    },
    {
      "cell_type": "code",
      "source": [
        "model = Sequential()\n",
        "model.add(Dense(10,input_shape = (13,))) # first hidden layer\n",
        "model.add(Activation('sigmoid'))\n",
        "model.add(Dense(10))\n",
        "model.add(Activation('sigmoid'))\n",
        "model.add(Dense(10))\n",
        "model.add(Activation('sigmoid'))\n",
        "model.add(Dense(1))\n",
        "model.add(Activation('relu'))\n",
        "\n",
        "model.summary()"
      ],
      "metadata": {
        "colab": {
          "base_uri": "https://localhost:8080/"
        },
        "id": "dHZo6MjaTFso",
        "outputId": "b851ff98-2270-40b8-dba7-e8c0ece1f107"
      },
      "execution_count": 21,
      "outputs": [
        {
          "output_type": "stream",
          "name": "stdout",
          "text": [
            "Model: \"sequential_3\"\n",
            "_________________________________________________________________\n",
            " Layer (type)                Output Shape              Param #   \n",
            "=================================================================\n",
            " dense_9 (Dense)             (None, 10)                140       \n",
            "                                                                 \n",
            " activation_9 (Activation)   (None, 10)                0         \n",
            "                                                                 \n",
            " dense_10 (Dense)            (None, 10)                110       \n",
            "                                                                 \n",
            " activation_10 (Activation)  (None, 10)                0         \n",
            "                                                                 \n",
            " dense_11 (Dense)            (None, 10)                110       \n",
            "                                                                 \n",
            " activation_11 (Activation)  (None, 10)                0         \n",
            "                                                                 \n",
            " dense_12 (Dense)            (None, 1)                 11        \n",
            "                                                                 \n",
            " activation_12 (Activation)  (None, 1)                 0         \n",
            "                                                                 \n",
            "=================================================================\n",
            "Total params: 371\n",
            "Trainable params: 371\n",
            "Non-trainable params: 0\n",
            "_________________________________________________________________\n"
          ]
        }
      ]
    },
    {
      "cell_type": "markdown",
      "source": [
        "## 4. Model Training"
      ],
      "metadata": {
        "id": "eouWOmIbKKhE"
      }
    },
    {
      "cell_type": "code",
      "source": [
        "model.compile(optimizer= 'adam', loss = 'mean_squared_error', metrics=['mse'])\n",
        "\n",
        "model.fit(x_train, y_train, batch_size=64, epochs=100, verbose = 1) # trainig"
      ],
      "metadata": {
        "colab": {
          "base_uri": "https://localhost:8080/"
        },
        "id": "nbRZUsWPWTJJ",
        "outputId": "d0bd28ec-5cd2-4b35-a7d6-b8d4de63c9bb"
      },
      "execution_count": 24,
      "outputs": [
        {
          "output_type": "stream",
          "name": "stdout",
          "text": [
            "Epoch 1/100\n",
            "7/7 [==============================] - 1s 3ms/step - loss: 76.9393 - mse: 76.9393\n",
            "Epoch 2/100\n",
            "7/7 [==============================] - 0s 3ms/step - loss: 76.9095 - mse: 76.9095\n",
            "Epoch 3/100\n",
            "7/7 [==============================] - 0s 3ms/step - loss: 76.9115 - mse: 76.9115\n",
            "Epoch 4/100\n",
            "7/7 [==============================] - 0s 3ms/step - loss: 76.8991 - mse: 76.8991\n",
            "Epoch 5/100\n",
            "7/7 [==============================] - 0s 3ms/step - loss: 76.9144 - mse: 76.9144\n",
            "Epoch 6/100\n",
            "7/7 [==============================] - 0s 3ms/step - loss: 76.9065 - mse: 76.9065\n",
            "Epoch 7/100\n",
            "7/7 [==============================] - 0s 2ms/step - loss: 76.9057 - mse: 76.9057\n",
            "Epoch 8/100\n",
            "7/7 [==============================] - 0s 3ms/step - loss: 76.9095 - mse: 76.9095\n",
            "Epoch 9/100\n",
            "7/7 [==============================] - 0s 2ms/step - loss: 76.9069 - mse: 76.9069\n",
            "Epoch 10/100\n",
            "7/7 [==============================] - 0s 3ms/step - loss: 76.9119 - mse: 76.9119\n",
            "Epoch 11/100\n",
            "7/7 [==============================] - 0s 2ms/step - loss: 76.9148 - mse: 76.9148\n",
            "Epoch 12/100\n",
            "7/7 [==============================] - 0s 3ms/step - loss: 76.9114 - mse: 76.9114\n",
            "Epoch 13/100\n",
            "7/7 [==============================] - 0s 3ms/step - loss: 76.8955 - mse: 76.8955\n",
            "Epoch 14/100\n",
            "7/7 [==============================] - 0s 3ms/step - loss: 76.8938 - mse: 76.8938\n",
            "Epoch 15/100\n",
            "7/7 [==============================] - 0s 3ms/step - loss: 76.9103 - mse: 76.9103\n",
            "Epoch 16/100\n",
            "7/7 [==============================] - 0s 3ms/step - loss: 76.9184 - mse: 76.9184\n",
            "Epoch 17/100\n",
            "7/7 [==============================] - 0s 3ms/step - loss: 76.9839 - mse: 76.9839\n",
            "Epoch 18/100\n",
            "7/7 [==============================] - 0s 3ms/step - loss: 76.9118 - mse: 76.9118\n",
            "Epoch 19/100\n",
            "7/7 [==============================] - 0s 2ms/step - loss: 76.8976 - mse: 76.8976\n",
            "Epoch 20/100\n",
            "7/7 [==============================] - 0s 3ms/step - loss: 76.9013 - mse: 76.9013\n",
            "Epoch 21/100\n",
            "7/7 [==============================] - 0s 2ms/step - loss: 76.9115 - mse: 76.9115\n",
            "Epoch 22/100\n",
            "7/7 [==============================] - 0s 2ms/step - loss: 76.8998 - mse: 76.8998\n",
            "Epoch 23/100\n",
            "7/7 [==============================] - 0s 2ms/step - loss: 76.8988 - mse: 76.8988\n",
            "Epoch 24/100\n",
            "7/7 [==============================] - 0s 2ms/step - loss: 76.8992 - mse: 76.8992\n",
            "Epoch 25/100\n",
            "7/7 [==============================] - 0s 2ms/step - loss: 76.9001 - mse: 76.9001\n",
            "Epoch 26/100\n",
            "7/7 [==============================] - 0s 3ms/step - loss: 76.8991 - mse: 76.8991\n",
            "Epoch 27/100\n",
            "7/7 [==============================] - 0s 3ms/step - loss: 76.9074 - mse: 76.9074\n",
            "Epoch 28/100\n",
            "7/7 [==============================] - 0s 3ms/step - loss: 76.8976 - mse: 76.8976\n",
            "Epoch 29/100\n",
            "7/7 [==============================] - 0s 3ms/step - loss: 76.8971 - mse: 76.8971\n",
            "Epoch 30/100\n",
            "7/7 [==============================] - 0s 3ms/step - loss: 76.8974 - mse: 76.8974\n",
            "Epoch 31/100\n",
            "7/7 [==============================] - 0s 3ms/step - loss: 76.9434 - mse: 76.9434\n",
            "Epoch 32/100\n",
            "7/7 [==============================] - 0s 3ms/step - loss: 76.8967 - mse: 76.8967\n",
            "Epoch 33/100\n",
            "7/7 [==============================] - 0s 2ms/step - loss: 76.8846 - mse: 76.8846\n",
            "Epoch 34/100\n",
            "7/7 [==============================] - 0s 2ms/step - loss: 76.8995 - mse: 76.8995\n",
            "Epoch 35/100\n",
            "7/7 [==============================] - 0s 3ms/step - loss: 76.9003 - mse: 76.9003\n",
            "Epoch 36/100\n",
            "7/7 [==============================] - 0s 4ms/step - loss: 76.8899 - mse: 76.8899\n",
            "Epoch 37/100\n",
            "7/7 [==============================] - 0s 4ms/step - loss: 76.8990 - mse: 76.8990\n",
            "Epoch 38/100\n",
            "7/7 [==============================] - 0s 3ms/step - loss: 76.8969 - mse: 76.8969\n",
            "Epoch 39/100\n",
            "7/7 [==============================] - 0s 3ms/step - loss: 76.9302 - mse: 76.9302\n",
            "Epoch 40/100\n",
            "7/7 [==============================] - 0s 3ms/step - loss: 76.9314 - mse: 76.9314\n",
            "Epoch 41/100\n",
            "7/7 [==============================] - 0s 3ms/step - loss: 76.9223 - mse: 76.9223\n",
            "Epoch 42/100\n",
            "7/7 [==============================] - 0s 2ms/step - loss: 76.9307 - mse: 76.9307\n",
            "Epoch 43/100\n",
            "7/7 [==============================] - 0s 3ms/step - loss: 76.9294 - mse: 76.9294\n",
            "Epoch 44/100\n",
            "7/7 [==============================] - 0s 3ms/step - loss: 76.9070 - mse: 76.9070\n",
            "Epoch 45/100\n",
            "7/7 [==============================] - 0s 3ms/step - loss: 76.9096 - mse: 76.9096\n",
            "Epoch 46/100\n",
            "7/7 [==============================] - 0s 3ms/step - loss: 76.9079 - mse: 76.9079\n",
            "Epoch 47/100\n",
            "7/7 [==============================] - 0s 3ms/step - loss: 76.9044 - mse: 76.9044\n",
            "Epoch 48/100\n",
            "7/7 [==============================] - 0s 3ms/step - loss: 76.9044 - mse: 76.9044\n",
            "Epoch 49/100\n",
            "7/7 [==============================] - 0s 3ms/step - loss: 76.8995 - mse: 76.8995\n",
            "Epoch 50/100\n",
            "7/7 [==============================] - 0s 3ms/step - loss: 76.9038 - mse: 76.9038\n",
            "Epoch 51/100\n",
            "7/7 [==============================] - 0s 3ms/step - loss: 76.9126 - mse: 76.9126\n",
            "Epoch 52/100\n",
            "7/7 [==============================] - 0s 2ms/step - loss: 76.9327 - mse: 76.9327\n",
            "Epoch 53/100\n",
            "7/7 [==============================] - 0s 3ms/step - loss: 76.9026 - mse: 76.9026\n",
            "Epoch 54/100\n",
            "7/7 [==============================] - 0s 3ms/step - loss: 76.9048 - mse: 76.9048\n",
            "Epoch 55/100\n",
            "7/7 [==============================] - 0s 3ms/step - loss: 76.9036 - mse: 76.9036\n",
            "Epoch 56/100\n",
            "7/7 [==============================] - 0s 3ms/step - loss: 76.9088 - mse: 76.9088\n",
            "Epoch 57/100\n",
            "7/7 [==============================] - 0s 3ms/step - loss: 76.8986 - mse: 76.8986\n",
            "Epoch 58/100\n",
            "7/7 [==============================] - 0s 3ms/step - loss: 76.9078 - mse: 76.9078\n",
            "Epoch 59/100\n",
            "7/7 [==============================] - 0s 3ms/step - loss: 76.9013 - mse: 76.9013\n",
            "Epoch 60/100\n",
            "7/7 [==============================] - 0s 3ms/step - loss: 76.9097 - mse: 76.9097\n",
            "Epoch 61/100\n",
            "7/7 [==============================] - 0s 3ms/step - loss: 76.9128 - mse: 76.9128\n",
            "Epoch 62/100\n",
            "7/7 [==============================] - 0s 3ms/step - loss: 76.9083 - mse: 76.9083\n",
            "Epoch 63/100\n",
            "7/7 [==============================] - 0s 3ms/step - loss: 76.8982 - mse: 76.8982\n",
            "Epoch 64/100\n",
            "7/7 [==============================] - 0s 3ms/step - loss: 76.9461 - mse: 76.9461\n",
            "Epoch 65/100\n",
            "7/7 [==============================] - 0s 3ms/step - loss: 76.9018 - mse: 76.9018\n",
            "Epoch 66/100\n",
            "7/7 [==============================] - 0s 3ms/step - loss: 76.9023 - mse: 76.9023\n",
            "Epoch 67/100\n",
            "7/7 [==============================] - 0s 3ms/step - loss: 76.9063 - mse: 76.9063\n",
            "Epoch 68/100\n",
            "7/7 [==============================] - 0s 3ms/step - loss: 76.9063 - mse: 76.9063\n",
            "Epoch 69/100\n",
            "7/7 [==============================] - 0s 2ms/step - loss: 76.9109 - mse: 76.9109\n",
            "Epoch 70/100\n",
            "7/7 [==============================] - 0s 3ms/step - loss: 76.8992 - mse: 76.8992\n",
            "Epoch 71/100\n",
            "7/7 [==============================] - 0s 3ms/step - loss: 76.9004 - mse: 76.9004\n",
            "Epoch 72/100\n",
            "7/7 [==============================] - 0s 3ms/step - loss: 76.8918 - mse: 76.8918\n",
            "Epoch 73/100\n",
            "7/7 [==============================] - 0s 3ms/step - loss: 76.9244 - mse: 76.9244\n",
            "Epoch 74/100\n",
            "7/7 [==============================] - 0s 4ms/step - loss: 76.9236 - mse: 76.9236\n",
            "Epoch 75/100\n",
            "7/7 [==============================] - 0s 3ms/step - loss: 76.9238 - mse: 76.9238\n",
            "Epoch 76/100\n",
            "7/7 [==============================] - 0s 3ms/step - loss: 76.9193 - mse: 76.9193\n",
            "Epoch 77/100\n",
            "7/7 [==============================] - 0s 3ms/step - loss: 76.9262 - mse: 76.9262\n",
            "Epoch 78/100\n",
            "7/7 [==============================] - 0s 3ms/step - loss: 76.9051 - mse: 76.9051\n",
            "Epoch 79/100\n",
            "7/7 [==============================] - 0s 3ms/step - loss: 76.9232 - mse: 76.9232\n",
            "Epoch 80/100\n",
            "7/7 [==============================] - 0s 3ms/step - loss: 76.9131 - mse: 76.9131\n",
            "Epoch 81/100\n",
            "7/7 [==============================] - 0s 3ms/step - loss: 76.9071 - mse: 76.9071\n",
            "Epoch 82/100\n",
            "7/7 [==============================] - 0s 3ms/step - loss: 76.9043 - mse: 76.9043\n",
            "Epoch 83/100\n",
            "7/7 [==============================] - 0s 3ms/step - loss: 76.9007 - mse: 76.9007\n",
            "Epoch 84/100\n",
            "7/7 [==============================] - 0s 3ms/step - loss: 76.9091 - mse: 76.9091\n",
            "Epoch 85/100\n",
            "7/7 [==============================] - 0s 3ms/step - loss: 76.9097 - mse: 76.9097\n",
            "Epoch 86/100\n",
            "7/7 [==============================] - 0s 2ms/step - loss: 76.9065 - mse: 76.9065\n",
            "Epoch 87/100\n",
            "7/7 [==============================] - 0s 2ms/step - loss: 76.9017 - mse: 76.9017\n",
            "Epoch 88/100\n",
            "7/7 [==============================] - 0s 3ms/step - loss: 76.9173 - mse: 76.9173\n",
            "Epoch 89/100\n",
            "7/7 [==============================] - 0s 3ms/step - loss: 76.9176 - mse: 76.9176\n",
            "Epoch 90/100\n",
            "7/7 [==============================] - 0s 3ms/step - loss: 76.9026 - mse: 76.9026\n",
            "Epoch 91/100\n",
            "7/7 [==============================] - 0s 3ms/step - loss: 76.9049 - mse: 76.9049\n",
            "Epoch 92/100\n",
            "7/7 [==============================] - 0s 3ms/step - loss: 76.9152 - mse: 76.9152\n",
            "Epoch 93/100\n",
            "7/7 [==============================] - 0s 3ms/step - loss: 76.9224 - mse: 76.9224\n",
            "Epoch 94/100\n",
            "7/7 [==============================] - 0s 3ms/step - loss: 76.9031 - mse: 76.9031\n",
            "Epoch 95/100\n",
            "7/7 [==============================] - 0s 3ms/step - loss: 76.9136 - mse: 76.9136\n",
            "Epoch 96/100\n",
            "7/7 [==============================] - 0s 3ms/step - loss: 76.9011 - mse: 76.9011\n",
            "Epoch 97/100\n",
            "7/7 [==============================] - 0s 3ms/step - loss: 76.9013 - mse: 76.9013\n",
            "Epoch 98/100\n",
            "7/7 [==============================] - 0s 3ms/step - loss: 76.9081 - mse: 76.9081\n",
            "Epoch 99/100\n",
            "7/7 [==============================] - 0s 2ms/step - loss: 76.9102 - mse: 76.9102\n",
            "Epoch 100/100\n",
            "7/7 [==============================] - 0s 3ms/step - loss: 76.9143 - mse: 76.9143\n"
          ]
        },
        {
          "output_type": "execute_result",
          "data": {
            "text/plain": [
              "<keras.callbacks.History at 0x7f0c296c6a00>"
            ]
          },
          "metadata": {},
          "execution_count": 24
        }
      ]
    },
    {
      "cell_type": "markdown",
      "source": [
        "## 5. Model Testing"
      ],
      "metadata": {
        "id": "nGfj5co1KK-V"
      }
    },
    {
      "cell_type": "code",
      "source": [
        "y_pred= model.predict(x_test)"
      ],
      "metadata": {
        "colab": {
          "base_uri": "https://localhost:8080/"
        },
        "id": "sGJKvbf6IHC0",
        "outputId": "d0882130-d301-4a68-be6a-49a64e01eb67"
      },
      "execution_count": 25,
      "outputs": [
        {
          "output_type": "stream",
          "name": "stdout",
          "text": [
            "4/4 [==============================] - 0s 2ms/step\n"
          ]
        }
      ]
    },
    {
      "cell_type": "code",
      "source": [
        "test=pd.DataFrame(y_test)\n",
        "test.columns=['actual']\n",
        "preds=pd.DataFrame(y_pred)\n",
        "preds.columns=['preds']\n",
        "\n",
        "res=pd.concat([test,preds],1)\n",
        "res"
      ],
      "metadata": {
        "colab": {
          "base_uri": "https://localhost:8080/",
          "height": 458
        },
        "id": "HwmmAAJvaBLi",
        "outputId": "28cd42f2-f994-4b0a-f06a-38bd782ee916"
      },
      "execution_count": 26,
      "outputs": [
        {
          "output_type": "stream",
          "name": "stderr",
          "text": [
            "<ipython-input-26-ed7103adb746>:6: FutureWarning: In a future version of pandas all arguments of concat except for the argument 'objs' will be keyword-only\n",
            "  res=pd.concat([test,preds],1)\n"
          ]
        },
        {
          "output_type": "execute_result",
          "data": {
            "text/plain": [
              "     actual      preds\n",
              "0       7.2  12.969487\n",
              "1      18.8  23.300608\n",
              "2      19.0  23.300608\n",
              "3      27.0  23.300608\n",
              "4      22.2  23.300608\n",
              "..      ...        ...\n",
              "97     21.9  23.300608\n",
              "98     24.1  23.300608\n",
              "99     50.0  23.300608\n",
              "100    26.7  23.300608\n",
              "101    25.0  23.300608\n",
              "\n",
              "[102 rows x 2 columns]"
            ],
            "text/html": [
              "\n",
              "  <div id=\"df-93c1316c-d67f-484b-98a9-b0e408740189\">\n",
              "    <div class=\"colab-df-container\">\n",
              "      <div>\n",
              "<style scoped>\n",
              "    .dataframe tbody tr th:only-of-type {\n",
              "        vertical-align: middle;\n",
              "    }\n",
              "\n",
              "    .dataframe tbody tr th {\n",
              "        vertical-align: top;\n",
              "    }\n",
              "\n",
              "    .dataframe thead th {\n",
              "        text-align: right;\n",
              "    }\n",
              "</style>\n",
              "<table border=\"1\" class=\"dataframe\">\n",
              "  <thead>\n",
              "    <tr style=\"text-align: right;\">\n",
              "      <th></th>\n",
              "      <th>actual</th>\n",
              "      <th>preds</th>\n",
              "    </tr>\n",
              "  </thead>\n",
              "  <tbody>\n",
              "    <tr>\n",
              "      <th>0</th>\n",
              "      <td>7.2</td>\n",
              "      <td>12.969487</td>\n",
              "    </tr>\n",
              "    <tr>\n",
              "      <th>1</th>\n",
              "      <td>18.8</td>\n",
              "      <td>23.300608</td>\n",
              "    </tr>\n",
              "    <tr>\n",
              "      <th>2</th>\n",
              "      <td>19.0</td>\n",
              "      <td>23.300608</td>\n",
              "    </tr>\n",
              "    <tr>\n",
              "      <th>3</th>\n",
              "      <td>27.0</td>\n",
              "      <td>23.300608</td>\n",
              "    </tr>\n",
              "    <tr>\n",
              "      <th>4</th>\n",
              "      <td>22.2</td>\n",
              "      <td>23.300608</td>\n",
              "    </tr>\n",
              "    <tr>\n",
              "      <th>...</th>\n",
              "      <td>...</td>\n",
              "      <td>...</td>\n",
              "    </tr>\n",
              "    <tr>\n",
              "      <th>97</th>\n",
              "      <td>21.9</td>\n",
              "      <td>23.300608</td>\n",
              "    </tr>\n",
              "    <tr>\n",
              "      <th>98</th>\n",
              "      <td>24.1</td>\n",
              "      <td>23.300608</td>\n",
              "    </tr>\n",
              "    <tr>\n",
              "      <th>99</th>\n",
              "      <td>50.0</td>\n",
              "      <td>23.300608</td>\n",
              "    </tr>\n",
              "    <tr>\n",
              "      <th>100</th>\n",
              "      <td>26.7</td>\n",
              "      <td>23.300608</td>\n",
              "    </tr>\n",
              "    <tr>\n",
              "      <th>101</th>\n",
              "      <td>25.0</td>\n",
              "      <td>23.300608</td>\n",
              "    </tr>\n",
              "  </tbody>\n",
              "</table>\n",
              "<p>102 rows × 2 columns</p>\n",
              "</div>\n",
              "      <button class=\"colab-df-convert\" onclick=\"convertToInteractive('df-93c1316c-d67f-484b-98a9-b0e408740189')\"\n",
              "              title=\"Convert this dataframe to an interactive table.\"\n",
              "              style=\"display:none;\">\n",
              "        \n",
              "  <svg xmlns=\"http://www.w3.org/2000/svg\" height=\"24px\"viewBox=\"0 0 24 24\"\n",
              "       width=\"24px\">\n",
              "    <path d=\"M0 0h24v24H0V0z\" fill=\"none\"/>\n",
              "    <path d=\"M18.56 5.44l.94 2.06.94-2.06 2.06-.94-2.06-.94-.94-2.06-.94 2.06-2.06.94zm-11 1L8.5 8.5l.94-2.06 2.06-.94-2.06-.94L8.5 2.5l-.94 2.06-2.06.94zm10 10l.94 2.06.94-2.06 2.06-.94-2.06-.94-.94-2.06-.94 2.06-2.06.94z\"/><path d=\"M17.41 7.96l-1.37-1.37c-.4-.4-.92-.59-1.43-.59-.52 0-1.04.2-1.43.59L10.3 9.45l-7.72 7.72c-.78.78-.78 2.05 0 2.83L4 21.41c.39.39.9.59 1.41.59.51 0 1.02-.2 1.41-.59l7.78-7.78 2.81-2.81c.8-.78.8-2.07 0-2.86zM5.41 20L4 18.59l7.72-7.72 1.47 1.35L5.41 20z\"/>\n",
              "  </svg>\n",
              "      </button>\n",
              "      \n",
              "  <style>\n",
              "    .colab-df-container {\n",
              "      display:flex;\n",
              "      flex-wrap:wrap;\n",
              "      gap: 12px;\n",
              "    }\n",
              "\n",
              "    .colab-df-convert {\n",
              "      background-color: #E8F0FE;\n",
              "      border: none;\n",
              "      border-radius: 50%;\n",
              "      cursor: pointer;\n",
              "      display: none;\n",
              "      fill: #1967D2;\n",
              "      height: 32px;\n",
              "      padding: 0 0 0 0;\n",
              "      width: 32px;\n",
              "    }\n",
              "\n",
              "    .colab-df-convert:hover {\n",
              "      background-color: #E2EBFA;\n",
              "      box-shadow: 0px 1px 2px rgba(60, 64, 67, 0.3), 0px 1px 3px 1px rgba(60, 64, 67, 0.15);\n",
              "      fill: #174EA6;\n",
              "    }\n",
              "\n",
              "    [theme=dark] .colab-df-convert {\n",
              "      background-color: #3B4455;\n",
              "      fill: #D2E3FC;\n",
              "    }\n",
              "\n",
              "    [theme=dark] .colab-df-convert:hover {\n",
              "      background-color: #434B5C;\n",
              "      box-shadow: 0px 1px 3px 1px rgba(0, 0, 0, 0.15);\n",
              "      filter: drop-shadow(0px 1px 2px rgba(0, 0, 0, 0.3));\n",
              "      fill: #FFFFFF;\n",
              "    }\n",
              "  </style>\n",
              "\n",
              "      <script>\n",
              "        const buttonEl =\n",
              "          document.querySelector('#df-93c1316c-d67f-484b-98a9-b0e408740189 button.colab-df-convert');\n",
              "        buttonEl.style.display =\n",
              "          google.colab.kernel.accessAllowed ? 'block' : 'none';\n",
              "\n",
              "        async function convertToInteractive(key) {\n",
              "          const element = document.querySelector('#df-93c1316c-d67f-484b-98a9-b0e408740189');\n",
              "          const dataTable =\n",
              "            await google.colab.kernel.invokeFunction('convertToInteractive',\n",
              "                                                     [key], {});\n",
              "          if (!dataTable) return;\n",
              "\n",
              "          const docLinkHtml = 'Like what you see? Visit the ' +\n",
              "            '<a target=\"_blank\" href=https://colab.research.google.com/notebooks/data_table.ipynb>data table notebook</a>'\n",
              "            + ' to learn more about interactive tables.';\n",
              "          element.innerHTML = '';\n",
              "          dataTable['output_type'] = 'display_data';\n",
              "          await google.colab.output.renderOutput(dataTable, element);\n",
              "          const docLink = document.createElement('div');\n",
              "          docLink.innerHTML = docLinkHtml;\n",
              "          element.appendChild(docLink);\n",
              "        }\n",
              "      </script>\n",
              "    </div>\n",
              "  </div>\n",
              "  "
            ]
          },
          "metadata": {},
          "execution_count": 26
        }
      ]
    },
    {
      "cell_type": "markdown",
      "source": [
        "## 6. Model Inference[Prediction"
      ],
      "metadata": {
        "id": "DIp-EkvHb1fT"
      }
    },
    {
      "cell_type": "code",
      "source": [
        "model.predict(x_test)"
      ],
      "metadata": {
        "colab": {
          "base_uri": "https://localhost:8080/"
        },
        "id": "2rPr_sRtbuP8",
        "outputId": "2c4cc050-eb13-4cda-cd1b-94581f737d92"
      },
      "execution_count": 28,
      "outputs": [
        {
          "output_type": "stream",
          "name": "stdout",
          "text": [
            "4/4 [==============================] - 0s 3ms/step\n"
          ]
        },
        {
          "output_type": "execute_result",
          "data": {
            "text/plain": [
              "array([[12.969487],\n",
              "       [23.300608],\n",
              "       [23.300608],\n",
              "       [23.300608],\n",
              "       [23.300608],\n",
              "       [23.300608],\n",
              "       [23.300608],\n",
              "       [23.300608],\n",
              "       [23.300608],\n",
              "       [23.300608],\n",
              "       [12.969487],\n",
              "       [23.300608],\n",
              "       [23.300608],\n",
              "       [23.300608],\n",
              "       [23.300608],\n",
              "       [23.300608],\n",
              "       [23.300608],\n",
              "       [23.300608],\n",
              "       [23.300608],\n",
              "       [23.300608],\n",
              "       [23.300608],\n",
              "       [12.969487],\n",
              "       [23.300608],\n",
              "       [23.300608],\n",
              "       [23.300608],\n",
              "       [23.300608],\n",
              "       [23.300608],\n",
              "       [23.300608],\n",
              "       [12.969487],\n",
              "       [23.300608],\n",
              "       [23.300611],\n",
              "       [12.969487],\n",
              "       [23.300608],\n",
              "       [23.300608],\n",
              "       [23.300608],\n",
              "       [23.300608],\n",
              "       [23.300608],\n",
              "       [23.300608],\n",
              "       [23.300608],\n",
              "       [23.300608],\n",
              "       [23.300608],\n",
              "       [23.300608],\n",
              "       [23.300608],\n",
              "       [23.300608],\n",
              "       [23.300608],\n",
              "       [23.300608],\n",
              "       [23.300608],\n",
              "       [23.300608],\n",
              "       [23.300608],\n",
              "       [23.300608],\n",
              "       [23.300608],\n",
              "       [23.300608],\n",
              "       [23.300608],\n",
              "       [23.300608],\n",
              "       [23.300608],\n",
              "       [23.300608],\n",
              "       [23.300608],\n",
              "       [23.300608],\n",
              "       [23.300608],\n",
              "       [23.300608],\n",
              "       [23.300608],\n",
              "       [23.300608],\n",
              "       [23.300611],\n",
              "       [23.300611],\n",
              "       [23.300608],\n",
              "       [23.300608],\n",
              "       [23.300608],\n",
              "       [23.300608],\n",
              "       [23.300608],\n",
              "       [23.300608],\n",
              "       [23.300608],\n",
              "       [23.300608],\n",
              "       [23.300608],\n",
              "       [23.300608],\n",
              "       [23.300608],\n",
              "       [23.300608],\n",
              "       [23.300608],\n",
              "       [23.300608],\n",
              "       [23.300608],\n",
              "       [23.300608],\n",
              "       [23.300608],\n",
              "       [23.300608],\n",
              "       [23.300608],\n",
              "       [23.300608],\n",
              "       [23.300608],\n",
              "       [23.300608],\n",
              "       [23.300608],\n",
              "       [23.300608],\n",
              "       [23.300608],\n",
              "       [23.300608],\n",
              "       [23.300608],\n",
              "       [23.300608],\n",
              "       [23.300608],\n",
              "       [23.300608],\n",
              "       [23.300611],\n",
              "       [23.300611],\n",
              "       [23.300608],\n",
              "       [23.300608],\n",
              "       [23.300608],\n",
              "       [23.300608],\n",
              "       [23.300608],\n",
              "       [23.300608]], dtype=float32)"
            ]
          },
          "metadata": {},
          "execution_count": 28
        }
      ]
    }
  ],
  "metadata": {
    "colab": {
      "provenance": []
    },
    "kernelspec": {
      "display_name": "Python 3",
      "name": "python3"
    }
  },
  "nbformat": 4,
  "nbformat_minor": 0
}